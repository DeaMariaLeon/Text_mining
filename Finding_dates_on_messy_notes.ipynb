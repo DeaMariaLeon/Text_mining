{
 "cells": [
  {
   "cell_type": "markdown",
   "metadata": {},
   "source": [
    "\n",
    "\n",
    "This is an example of medical data to use regex to extract relevant infromation from the data. \n",
    "\n",
    "Each line of the `dates.txt` file corresponds to a medical note. Each note has a date that needs to be extracted, but each date is encoded in one of many formats.\n",
    "\n",
    "The goal is to correctly identify all of the different date variants encoded in this dataset and to properly normalize and sort the dates. \n",
    "\n",
    "Here is a list of some of the variants in this dataset:\n",
    "* 04/20/2009; 04/20/09; 4/20/09; 4/3/09\n",
    "* Mar-20-2009; Mar 20, 2009; March 20, 2009;  Mar. 20, 2009; Mar 20 2009;\n",
    "* 20 Mar 2009; 20 March 2009; 20 Mar. 2009; 20 March, 2009\n",
    "* Mar 20th, 2009; Mar 21st, 2009; Mar 22nd, 2009\n",
    "* Feb 2009; Sep 2009; Oct 2010\n",
    "* 6/2008; 12/2009\n",
    "* 2009; 2010\n",
    "\n",
    "Assumtions:\n",
    "* All dates in xx/xx/xx format are mm/dd/yy\n",
    "* All dates where year is encoded in only two digits are years from the 1900's (e.g. 1/5/89 is January 5th, 1989)\n",
    "* If the day is missing (e.g. 9/2009), assume it is the first day of the month (e.g. September 1, 2009).\n",
    "* If the month is missing (e.g. 2010), assume it is the first of January of that year (e.g. January 1, 2010).\n",
    "* This is a raw, real-life derived dataset.\n",
    "\n",
    "With the rules, the correct date in each note needs to be found.\n"
   ]
  },
  {
   "cell_type": "code",
   "execution_count": 39,
   "metadata": {
    "collapsed": true
   },
   "outputs": [
    {
     "data": {
      "text/plain": [
       "0         03/25/93 Total time of visit (in minutes):\\n\n",
       "1                       6/18/85 Primary Care Doctor:\\n\n",
       "2    sshe plans to move as of 7/8/71 In-Home Servic...\n",
       "3                7 on 9/27/75 Audit C Score Current:\\n\n",
       "4    2/6/96 sleep studyPain Treatment Pain Level (N...\n",
       "dtype: object"
      ]
     },
     "execution_count": 39,
     "metadata": {},
     "output_type": "execute_result"
    }
   ],
   "source": [
    "import pandas as pd\n",
    "pd.options.display.max_rows = 20\n",
    "doc = []\n",
    "with open('dates.txt') as file:\n",
    "    for line in file:\n",
    "        doc.append(line)\n",
    "\n",
    "df = pd.Series(doc)\n",
    "df.head(5)"
   ]
  },
  {
   "cell_type": "code",
   "execution_count": 40,
   "metadata": {},
   "outputs": [],
   "source": [
    "def date_sorter():\n",
    "    \n",
    "    df[298] = 'January 1993'\n",
    "    df[313] = 'December 1978'\n",
    "    \n",
    "    df_dates = df.str.extract(r'(\\d{0,2}/\\d{0,2}/(?:\\d\\d)?(?:\\d\\d)\\b)|'\n",
    "            r'(\\d{1,2}-{1}\\d{1,2}-{1}\\d{2})|'\n",
    "            r'((?:\\d{1,2})?/\\d{4})|' \n",
    "            r'(?:[\\s|\\w|\\.|\\(|\\b|~])(\\d{4}\\b)|'     \n",
    "            r'(^\\d{4})|'    \n",
    "            r'((?:\\d{1,2}\\s)?(?:Jan|Feb|Mar|Apr|May|Jun|Jul|Aug|Sep|Oct|Nov|Dec)[a-z]*\\b.? ?(?:\\d{1,2}[a-z]*)?,? \\d{4})'\n",
    "                             )\n",
    "    df_dates[6] = pd.to_datetime(df_dates[df_dates.columns[0]])\n",
    "    df_dates[7] = pd.to_datetime(df_dates[df_dates.columns[1]])\n",
    "    df_dates[8] = pd.to_datetime(df_dates[df_dates.columns[2]])\n",
    "    df_dates[9] = pd.to_datetime(df_dates[df_dates.columns[3]])\n",
    "    df_dates[10] = pd.to_datetime(df_dates[df_dates.columns[4]])\n",
    "    df_dates[11] = pd.to_datetime(df_dates[df_dates.columns[5]])\n",
    "\n",
    "    clean_dates = df_dates[df_dates.columns[6:12]]\n",
    "    clean_dates2 = clean_dates.max(axis=1)\n",
    "    df_dates[12] = clean_dates2\n",
    "    df_dates[13] = df\n",
    "    df_dates = df_dates[[12, 13]]\n",
    "    df_dates.columns = ['Converted', 'Original']\n",
    "    df_dates.sort_values(by='Converted', inplace=True)\n",
    "\n",
    "    return df_dates\n",
    "df_dates = date_sorter()\n",
    "\n",
    "\n"
   ]
  },
  {
   "cell_type": "code",
   "execution_count": 41,
   "metadata": {},
   "outputs": [
    {
     "name": "stdout",
     "output_type": "stream",
     "text": [
      "     Converted                                           Original\n",
      "474 1972-01-01  sPatient reported losing three friends that pa...\n",
      "153 1972-01-13                 13 Jan 1972 Primary Care Doctor:\\n\n",
      "13  1972-01-26  1/26/72 Communication with referring physician...\n",
      "129 1972-05-06                  06 May 1972 SOS-10 Total Score:\\n\n",
      "98  1972-05-13  5/13/72 Other Adult Mental Health Outcomes Sca...\n"
     ]
    }
   ],
   "source": [
    "print(df_dates.head())"
   ]
  },
  {
   "cell_type": "markdown",
   "metadata": {},
   "source": [
    "Checking the converted data, it's obvious that there is a problem. Some dates are in the future."
   ]
  },
  {
   "cell_type": "code",
   "execution_count": 42,
   "metadata": {},
   "outputs": [
    {
     "data": {
      "text/plain": [
       "<AxesSubplot:xlabel='Converted', ylabel='Count'>"
      ]
     },
     "execution_count": 42,
     "metadata": {},
     "output_type": "execute_result"
    },
    {
     "data": {
      "image/png": "[encoded data removed]",
      "text/plain": [
       "<Figure size 432x288 with 1 Axes>"
      ]
     },
     "metadata": {},
     "output_type": "display_data"
    }
   ],
   "source": [
    "import seaborn as sns\n",
    "sns.set_theme(style=\"darkgrid\")\n",
    "sns.histplot(df_dates['Converted'])\n"
   ]
  },
  {
   "cell_type": "markdown",
   "metadata": {},
   "source": [
    "The error was introduced with the conversion string to date, the library assumes that the year \"17\" is 2017. So, I corrected this with a DateOffset. "
   ]
  },
  {
   "cell_type": "code",
   "execution_count": 43,
   "metadata": {},
   "outputs": [
    {
     "name": "stdout",
     "output_type": "stream",
     "text": [
      "    Converted                                           Original\n",
      "9  2071-04-10           (4/10/71)Score-1Audit C Score Current:\\n\n",
      "84 2071-05-18        5/18/71 Total time of visit (in minutes):\\n\n",
      "2  2071-07-08  sshe plans to move as of 7/8/71 In-Home Servic...\n",
      "53 2071-07-11                      7/11/71 SOS-10 Total Score:\\n\n",
      "28 2071-09-12                             9/12/71 [report_end]\\n\n"
     ]
    }
   ],
   "source": [
    "from pandas.tseries.offsets import DateOffset\n",
    "test = df_dates['Converted'] > '2020-01-01'\n",
    "offset = DateOffset(years=100)\n",
    "print(df_dates[test])\n",
    "df_dates['Converted'] = df_dates['Converted'].where(df_dates['Converted'] < '2020-01-01', df_dates['Converted'] - offset)\n"
   ]
  },
  {
   "cell_type": "code",
   "execution_count": 44,
   "metadata": {},
   "outputs": [
    {
     "data": {
      "text/html": [
       "<div>\n",
       "<style scoped>\n",
       "    .dataframe tbody tr th:only-of-type {\n",
       "        vertical-align: middle;\n",
       "    }\n",
       "\n",
       "    .dataframe tbody tr th {\n",
       "        vertical-align: top;\n",
       "    }\n",
       "\n",
       "    .dataframe thead th {\n",
       "        text-align: right;\n",
       "    }\n",
       "</style>\n",
       "<table border=\"1\" class=\"dataframe\">\n",
       "  <thead>\n",
       "    <tr style=\"text-align: right;\">\n",
       "      <th></th>\n",
       "      <th>Converted</th>\n",
       "      <th>Original</th>\n",
       "    </tr>\n",
       "  </thead>\n",
       "  <tbody>\n",
       "    <tr>\n",
       "      <th>474</th>\n",
       "      <td>1972-01-01</td>\n",
       "      <td>sPatient reported losing three friends that pa...</td>\n",
       "    </tr>\n",
       "    <tr>\n",
       "      <th>153</th>\n",
       "      <td>1972-01-13</td>\n",
       "      <td>13 Jan 1972 Primary Care Doctor:\\n</td>\n",
       "    </tr>\n",
       "    <tr>\n",
       "      <th>13</th>\n",
       "      <td>1972-01-26</td>\n",
       "      <td>1/26/72 Communication with referring physician...</td>\n",
       "    </tr>\n",
       "    <tr>\n",
       "      <th>129</th>\n",
       "      <td>1972-05-06</td>\n",
       "      <td>06 May 1972 SOS-10 Total Score:\\n</td>\n",
       "    </tr>\n",
       "    <tr>\n",
       "      <th>98</th>\n",
       "      <td>1972-05-13</td>\n",
       "      <td>5/13/72 Other Adult Mental Health Outcomes Sca...</td>\n",
       "    </tr>\n",
       "    <tr>\n",
       "      <th>...</th>\n",
       "      <td>...</td>\n",
       "      <td>...</td>\n",
       "    </tr>\n",
       "    <tr>\n",
       "      <th>9</th>\n",
       "      <td>1971-04-10</td>\n",
       "      <td>(4/10/71)Score-1Audit C Score Current:\\n</td>\n",
       "    </tr>\n",
       "    <tr>\n",
       "      <th>84</th>\n",
       "      <td>1971-05-18</td>\n",
       "      <td>5/18/71 Total time of visit (in minutes):\\n</td>\n",
       "    </tr>\n",
       "    <tr>\n",
       "      <th>2</th>\n",
       "      <td>1971-07-08</td>\n",
       "      <td>sshe plans to move as of 7/8/71 In-Home Servic...</td>\n",
       "    </tr>\n",
       "    <tr>\n",
       "      <th>53</th>\n",
       "      <td>1971-07-11</td>\n",
       "      <td>7/11/71 SOS-10 Total Score:\\n</td>\n",
       "    </tr>\n",
       "    <tr>\n",
       "      <th>28</th>\n",
       "      <td>1971-09-12</td>\n",
       "      <td>9/12/71 [report_end]\\n</td>\n",
       "    </tr>\n",
       "  </tbody>\n",
       "</table>\n",
       "<p>500 rows × 2 columns</p>\n",
       "</div>"
      ],
      "text/plain": [
       "     Converted                                           Original\n",
       "474 1972-01-01  sPatient reported losing three friends that pa...\n",
       "153 1972-01-13                 13 Jan 1972 Primary Care Doctor:\\n\n",
       "13  1972-01-26  1/26/72 Communication with referring physician...\n",
       "129 1972-05-06                  06 May 1972 SOS-10 Total Score:\\n\n",
       "98  1972-05-13  5/13/72 Other Adult Mental Health Outcomes Sca...\n",
       "..         ...                                                ...\n",
       "9   1971-04-10           (4/10/71)Score-1Audit C Score Current:\\n\n",
       "84  1971-05-18        5/18/71 Total time of visit (in minutes):\\n\n",
       "2   1971-07-08  sshe plans to move as of 7/8/71 In-Home Servic...\n",
       "53  1971-07-11                      7/11/71 SOS-10 Total Score:\\n\n",
       "28  1971-09-12                             9/12/71 [report_end]\\n\n",
       "\n",
       "[500 rows x 2 columns]"
      ]
     },
     "execution_count": 44,
     "metadata": {},
     "output_type": "execute_result"
    }
   ],
   "source": [
    "df_dates"
   ]
  },
  {
   "cell_type": "code",
   "execution_count": 45,
   "metadata": {},
   "outputs": [
    {
     "data": {
      "text/html": [
       "<div>\n",
       "<style scoped>\n",
       "    .dataframe tbody tr th:only-of-type {\n",
       "        vertical-align: middle;\n",
       "    }\n",
       "\n",
       "    .dataframe tbody tr th {\n",
       "        vertical-align: top;\n",
       "    }\n",
       "\n",
       "    .dataframe thead th {\n",
       "        text-align: right;\n",
       "    }\n",
       "</style>\n",
       "<table border=\"1\" class=\"dataframe\">\n",
       "  <thead>\n",
       "    <tr style=\"text-align: right;\">\n",
       "      <th></th>\n",
       "      <th>Converted</th>\n",
       "      <th>Original</th>\n",
       "    </tr>\n",
       "  </thead>\n",
       "  <tbody>\n",
       "    <tr>\n",
       "      <th>305</th>\n",
       "      <td>2000-02-01</td>\n",
       "      <td>. The patient was hospitalized in Feb 2000 at ...</td>\n",
       "    </tr>\n",
       "    <tr>\n",
       "      <th>260</th>\n",
       "      <td>2000-02-01</td>\n",
       "      <td>.Iredell Memorial Hospital, February 2000, aft...</td>\n",
       "    </tr>\n",
       "    <tr>\n",
       "      <th>420</th>\n",
       "      <td>2000-03-01</td>\n",
       "      <td>.Patient reports overall stable mental health ...</td>\n",
       "    </tr>\n",
       "    <tr>\n",
       "      <th>329</th>\n",
       "      <td>2000-03-01</td>\n",
       "      <td>CLLC and DCF - ended in March, 2000. Psychiatr...</td>\n",
       "    </tr>\n",
       "    <tr>\n",
       "      <th>392</th>\n",
       "      <td>2000-05-01</td>\n",
       "      <td>TSH 0.67 5/2000 Prior EEG:\\n</td>\n",
       "    </tr>\n",
       "    <tr>\n",
       "      <th>...</th>\n",
       "      <td>...</td>\n",
       "      <td>...</td>\n",
       "    </tr>\n",
       "    <tr>\n",
       "      <th>231</th>\n",
       "      <td>2016-05-01</td>\n",
       "      <td>50 yo DWF with a history of alcohol use disord...</td>\n",
       "    </tr>\n",
       "    <tr>\n",
       "      <th>141</th>\n",
       "      <td>2016-05-30</td>\n",
       "      <td>30 May 2016 SOS-10 Total Score:\\n</td>\n",
       "    </tr>\n",
       "    <tr>\n",
       "      <th>186</th>\n",
       "      <td>2016-10-13</td>\n",
       "      <td>13 Oct 2016 Primary Care Doctor:\\n</td>\n",
       "    </tr>\n",
       "    <tr>\n",
       "      <th>161</th>\n",
       "      <td>2016-10-19</td>\n",
       "      <td>19 Oct 2016 Communication with referring physi...</td>\n",
       "    </tr>\n",
       "    <tr>\n",
       "      <th>413</th>\n",
       "      <td>2016-11-01</td>\n",
       "      <td>11/2016 Primary Care Doctor:\\n</td>\n",
       "    </tr>\n",
       "  </tbody>\n",
       "</table>\n",
       "<p>148 rows × 2 columns</p>\n",
       "</div>"
      ],
      "text/plain": [
       "     Converted                                           Original\n",
       "305 2000-02-01  . The patient was hospitalized in Feb 2000 at ...\n",
       "260 2000-02-01  .Iredell Memorial Hospital, February 2000, aft...\n",
       "420 2000-03-01  .Patient reports overall stable mental health ...\n",
       "329 2000-03-01  CLLC and DCF - ended in March, 2000. Psychiatr...\n",
       "392 2000-05-01                       TSH 0.67 5/2000 Prior EEG:\\n\n",
       "..         ...                                                ...\n",
       "231 2016-05-01  50 yo DWF with a history of alcohol use disord...\n",
       "141 2016-05-30                  30 May 2016 SOS-10 Total Score:\\n\n",
       "186 2016-10-13                 13 Oct 2016 Primary Care Doctor:\\n\n",
       "161 2016-10-19  19 Oct 2016 Communication with referring physi...\n",
       "413 2016-11-01                     11/2016 Primary Care Doctor:\\n\n",
       "\n",
       "[148 rows x 2 columns]"
      ]
     },
     "execution_count": 45,
     "metadata": {},
     "output_type": "execute_result"
    }
   ],
   "source": [
    "test2 = df_dates[(df_dates['Converted'] > '2000-01-01') & (df_dates['Converted'] < '2020-01-01') ]\n",
    "test2"
   ]
  },
  {
   "cell_type": "code",
   "execution_count": 46,
   "metadata": {},
   "outputs": [
    {
     "data": {
      "text/plain": [
       "<AxesSubplot:xlabel='Converted', ylabel='Count'>"
      ]
     },
     "execution_count": 46,
     "metadata": {},
     "output_type": "execute_result"
    },
    {
     "data": {
      "image/png": "[encoded data removed]",
      "text/plain": [
       "<Figure size 432x288 with 1 Axes>"
      ]
     },
     "metadata": {},
     "output_type": "display_data"
    }
   ],
   "source": [
    "sns.histplot(df_dates['Converted'])"
   ]
  }
 ],
 "metadata": {
  "coursera": {
   "course_slug": "python-text-mining",
   "graded_item_id": "LvcWI",
   "launcher_item_id": "krne9",
   "part_id": "Mkp1I"
  },
  "kernelspec": {
   "display_name": "Python 3",
   "language": "python",
   "name": "python3"
  },
  "language_info": {
   "codemirror_mode": {
    "name": "ipython",
    "version": 3
   },
   "file_extension": ".py",
   "mimetype": "text/x-python",
   "name": "python",
   "nbconvert_exporter": "python",
   "pygments_lexer": "ipython3",
   "version": "3.8.13"
  }
 },
 "nbformat": 4,
 "nbformat_minor": 2
}
