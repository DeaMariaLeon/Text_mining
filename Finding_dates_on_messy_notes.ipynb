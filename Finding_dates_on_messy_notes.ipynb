{
 "cells": [
  {
   "cell_type": "markdown",
   "metadata": {},
   "source": [
    "\n",
    "\n",
    "This is an example of medical data to use regex to extract relevant infromation from the data. \n",
    "\n",
    "Each line of the `dates.txt` file corresponds to a medical note. Each note has a date that needs to be extracted, but each date is encoded in one of many formats.\n",
    "\n",
    "The goal of this assignment is to correctly identify all of the different date variants encoded in this dataset and to properly normalize and sort the dates. \n",
    "\n",
    "Here is a list of some of the variants in this dataset:\n",
    "* 04/20/2009; 04/20/09; 4/20/09; 4/3/09\n",
    "* Mar-20-2009; Mar 20, 2009; March 20, 2009;  Mar. 20, 2009; Mar 20 2009;\n",
    "* 20 Mar 2009; 20 March 2009; 20 Mar. 2009; 20 March, 2009\n",
    "* Mar 20th, 2009; Mar 21st, 2009; Mar 22nd, 2009\n",
    "* Feb 2009; Sep 2009; Oct 2010\n",
    "* 6/2008; 12/2009\n",
    "* 2009; 2010\n",
    "\n",
    "Rules:\n",
    "* Assume all dates in xx/xx/xx format are mm/dd/yy\n",
    "* Assume all dates where year is encoded in only two digits are years from the 1900's (e.g. 1/5/89 is January 5th, 1989)\n",
    "* If the day is missing (e.g. 9/2009), assume it is the first day of the month (e.g. September 1, 2009).\n",
    "* If the month is missing (e.g. 2010), assume it is the first of January of that year (e.g. January 1, 2010).\n",
    "* Watch out for potential typos as this is a raw, real-life derived dataset.\n",
    "\n",
    "With the rules, the correct date in each note needs to be found.\n"
   ]
  },
  {
   "cell_type": "code",
   "execution_count": 30,
   "metadata": {
    "collapsed": true
   },
   "outputs": [
    {
     "data": {
      "text/plain": [
       "0         03/25/93 Total time of visit (in minutes):\\n\n",
       "1                       6/18/85 Primary Care Doctor:\\n\n",
       "2    sshe plans to move as of 7/8/71 In-Home Servic...\n",
       "3                7 on 9/27/75 Audit C Score Current:\\n\n",
       "4    2/6/96 sleep studyPain Treatment Pain Level (N...\n",
       "dtype: object"
      ]
     },
     "execution_count": 30,
     "metadata": {},
     "output_type": "execute_result"
    }
   ],
   "source": [
    "import pandas as pd\n",
    "pd.options.display.max_rows = 20\n",
    "doc = []\n",
    "with open('dates.txt') as file:\n",
    "    for line in file:\n",
    "        doc.append(line)\n",
    "\n",
    "df = pd.Series(doc)\n",
    "df.head(5)"
   ]
  },
  {
   "cell_type": "code",
   "execution_count": 33,
   "metadata": {},
   "outputs": [
    {
     "name": "stdout",
     "output_type": "stream",
     "text": [
      "          0    1    2    3    4    5\n",
      "0  03/25/93  NaN  NaN  NaN  NaN  NaN\n",
      "1   6/18/85  NaN  NaN  NaN  NaN  NaN\n",
      "2    7/8/71  NaN  NaN  NaN  NaN  NaN\n",
      "3   9/27/75  NaN  NaN  NaN  NaN  NaN\n",
      "4    2/6/96  NaN  NaN  NaN  NaN  NaN\n",
      "474   1972-01-01\n",
      "153   1972-01-13\n",
      "13    1972-01-26\n",
      "129   1972-05-06\n",
      "98    1972-05-13\n",
      "         ...    \n",
      "9     2071-04-10\n",
      "84    2071-05-18\n",
      "2     2071-07-08\n",
      "53    2071-07-11\n",
      "28    2071-09-12\n",
      "Length: 500, dtype: datetime64[ns]\n"
     ]
    }
   ],
   "source": [
    "def date_sorter():\n",
    "    \n",
    "    df[298] = 'January 1993'\n",
    "    df[313] = 'December 1978'\n",
    "    df_dates = df.str.extract(r'(\\d{0,2}/\\d{0,2}/(?:\\d\\d)?(?:\\d\\d)\\b)|'\n",
    "            r'(\\d{1,2}-{1}\\d{1,2}-{1}\\d{2})|'\n",
    "            r'((?:\\d{1,2})?/\\d{4})|' \n",
    "            r'(?:[\\s|\\w|\\.|\\(|\\b|~])(\\d{4}\\b)|'     \n",
    "            r'(^\\d{4})|'    \n",
    "            r'((?:\\d{1,2}\\s)?(?:Jan|Feb|Mar|Apr|May|Jun|Jul|Aug|Sep|Oct|Nov|Dec)[a-z]*\\b.? ?(?:\\d{1,2}[a-z]*)?,? \\d{4})'\n",
    "                             )\n",
    "    print(df_dates.head())\n",
    "    df_dates[6] = pd.to_datetime(df_dates[df_dates.columns[0]])\n",
    "    df_dates[7] = pd.to_datetime(df_dates[df_dates.columns[1]])\n",
    "    df_dates[8] = pd.to_datetime(df_dates[df_dates.columns[2]])\n",
    "    df_dates[9] = pd.to_datetime(df_dates[df_dates.columns[3]])\n",
    "    df_dates[10] = pd.to_datetime(df_dates[df_dates.columns[4]])\n",
    "    df_dates[11] = pd.to_datetime(df_dates[df_dates.columns[5]])\n",
    "\n",
    "    clean_dates = df_dates[df_dates.columns[6:12]]\n",
    "    clean_dates2 = clean_dates.max(axis=1)\n",
    "    clean_dates2.sort_values(axis=0, inplace=True)\n",
    "    print(clean_dates2)\n",
    "    return \n",
    "date_sorter()\n",
    "\n",
    "\n"
   ]
  }
 ],
 "metadata": {
  "coursera": {
   "course_slug": "python-text-mining",
   "graded_item_id": "LvcWI",
   "launcher_item_id": "krne9",
   "part_id": "Mkp1I"
  },
  "kernelspec": {
   "display_name": "Python 3",
   "language": "python",
   "name": "python3"
  },
  "language_info": {
   "codemirror_mode": {
    "name": "ipython",
    "version": 3
   },
   "file_extension": ".py",
   "mimetype": "text/x-python",
   "name": "python",
   "nbconvert_exporter": "python",
   "pygments_lexer": "ipython3",
   "version": "3.8.13"
  }
 },
 "nbformat": 4,
 "nbformat_minor": 2
}
